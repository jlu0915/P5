{
 "cells": [
  {
   "cell_type": "code",
   "execution_count": 1,
   "id": "e938d1d4",
   "metadata": {},
   "outputs": [],
   "source": [
    "import pandas as pd\n",
    "import numpy as np\n",
    "# preprocessing\n",
    "from sklearn import preprocessing\n",
    "\n",
    "# K-Means de Sklearn\n",
    "from sklearn.cluster import KMeans\n",
    "\n",
    "\n",
    "\n",
    "from sklearn.metrics.cluster import adjusted_rand_score"
   ]
  },
  {
   "cell_type": "code",
   "execution_count": 2,
   "id": "f57a7c4c",
   "metadata": {},
   "outputs": [],
   "source": [
    "pd.set_option('display.max_columns', None)\n",
    "pd.set_option('display.max_rows', None)\n",
    "\n"
   ]
  },
  {
   "cell_type": "code",
   "execution_count": 3,
   "id": "5f34a24d",
   "metadata": {},
   "outputs": [
    {
     "name": "stderr",
     "output_type": "stream",
     "text": [
      "/Applications/anaconda3/lib/python3.8/site-packages/IPython/core/interactiveshell.py:3165: DtypeWarning: Columns (22) have mixed types.Specify dtype option on import or set low_memory=False.\n",
      "  has_raised = await self.run_ast_nodes(code_ast.body, cell_name,\n"
     ]
    },
    {
     "data": {
      "text/html": [
       "<div>\n",
       "<style scoped>\n",
       "    .dataframe tbody tr th:only-of-type {\n",
       "        vertical-align: middle;\n",
       "    }\n",
       "\n",
       "    .dataframe tbody tr th {\n",
       "        vertical-align: top;\n",
       "    }\n",
       "\n",
       "    .dataframe thead th {\n",
       "        text-align: right;\n",
       "    }\n",
       "</style>\n",
       "<table border=\"1\" class=\"dataframe\">\n",
       "  <thead>\n",
       "    <tr style=\"text-align: right;\">\n",
       "      <th></th>\n",
       "      <th>customer_unique_id</th>\n",
       "      <th>recency</th>\n",
       "      <th>frequency</th>\n",
       "      <th>monetary</th>\n",
       "      <th>average_purchase</th>\n",
       "      <th>min_purchase</th>\n",
       "      <th>max_purchase</th>\n",
       "      <th>nb_item_per_customer</th>\n",
       "      <th>nb_cde_per_customer</th>\n",
       "      <th>average_review_score</th>\n",
       "      <th>min_review_score</th>\n",
       "      <th>max_review_score</th>\n",
       "      <th>payment_type</th>\n",
       "      <th>nb_payment</th>\n",
       "      <th>customer_city</th>\n",
       "      <th>customer_state</th>\n",
       "      <th>deadline_order</th>\n",
       "      <th>purchase_day</th>\n",
       "      <th>purchase_month</th>\n",
       "      <th>purchase_hour</th>\n",
       "      <th>product_category_name</th>\n",
       "      <th>longeur_du_commentaire</th>\n",
       "      <th>last_purchase</th>\n",
       "    </tr>\n",
       "  </thead>\n",
       "  <tbody>\n",
       "    <tr>\n",
       "      <th>0</th>\n",
       "      <td>0000366f3b9a7992bf8c76cfdf3221e2</td>\n",
       "      <td>112</td>\n",
       "      <td>1</td>\n",
       "      <td>141.90</td>\n",
       "      <td>129.90</td>\n",
       "      <td>129.90</td>\n",
       "      <td>129.90</td>\n",
       "      <td>1</td>\n",
       "      <td>1</td>\n",
       "      <td>5.0</td>\n",
       "      <td>5.0</td>\n",
       "      <td>5.0</td>\n",
       "      <td>credit_card</td>\n",
       "      <td>8.0</td>\n",
       "      <td>cajamar</td>\n",
       "      <td>SP</td>\n",
       "      <td>6 days 09:52:10</td>\n",
       "      <td>3</td>\n",
       "      <td>5</td>\n",
       "      <td>10</td>\n",
       "      <td>Home,Furniture</td>\n",
       "      <td>111.0</td>\n",
       "      <td>2017-10-02 10:56:33</td>\n",
       "    </tr>\n",
       "    <tr>\n",
       "      <th>1</th>\n",
       "      <td>0000b849f77a49e4a4ce2b2a4ca5be3f</td>\n",
       "      <td>115</td>\n",
       "      <td>1</td>\n",
       "      <td>27.19</td>\n",
       "      <td>18.90</td>\n",
       "      <td>18.90</td>\n",
       "      <td>18.90</td>\n",
       "      <td>1</td>\n",
       "      <td>1</td>\n",
       "      <td>4.0</td>\n",
       "      <td>4.0</td>\n",
       "      <td>4.0</td>\n",
       "      <td>credit_card</td>\n",
       "      <td>1.0</td>\n",
       "      <td>osasco</td>\n",
       "      <td>SP</td>\n",
       "      <td>3 days 06:51:15</td>\n",
       "      <td>0</td>\n",
       "      <td>5</td>\n",
       "      <td>11</td>\n",
       "      <td>Beauty,Health,Personal Care</td>\n",
       "      <td>8.0</td>\n",
       "      <td>2017-10-02 10:56:33</td>\n",
       "    </tr>\n",
       "    <tr>\n",
       "      <th>2</th>\n",
       "      <td>0000f46a3911fa3c0805444483337064</td>\n",
       "      <td>537</td>\n",
       "      <td>1</td>\n",
       "      <td>86.22</td>\n",
       "      <td>69.00</td>\n",
       "      <td>69.00</td>\n",
       "      <td>69.00</td>\n",
       "      <td>1</td>\n",
       "      <td>1</td>\n",
       "      <td>3.0</td>\n",
       "      <td>3.0</td>\n",
       "      <td>3.0</td>\n",
       "      <td>credit_card</td>\n",
       "      <td>8.0</td>\n",
       "      <td>sao jose</td>\n",
       "      <td>SC</td>\n",
       "      <td>25 days 17:33:44</td>\n",
       "      <td>4</td>\n",
       "      <td>3</td>\n",
       "      <td>21</td>\n",
       "      <td>Home,Furniture</td>\n",
       "      <td>8.0</td>\n",
       "      <td>2017-10-02 10:56:33</td>\n",
       "    </tr>\n",
       "    <tr>\n",
       "      <th>3</th>\n",
       "      <td>0000f6ccb0745a6a4b88665a16c9f078</td>\n",
       "      <td>321</td>\n",
       "      <td>1</td>\n",
       "      <td>43.62</td>\n",
       "      <td>25.99</td>\n",
       "      <td>25.99</td>\n",
       "      <td>25.99</td>\n",
       "      <td>1</td>\n",
       "      <td>1</td>\n",
       "      <td>4.0</td>\n",
       "      <td>4.0</td>\n",
       "      <td>4.0</td>\n",
       "      <td>credit_card</td>\n",
       "      <td>4.0</td>\n",
       "      <td>belem</td>\n",
       "      <td>PA</td>\n",
       "      <td>20 days 00:53:24</td>\n",
       "      <td>3</td>\n",
       "      <td>10</td>\n",
       "      <td>20</td>\n",
       "      <td>Technologie, construction</td>\n",
       "      <td>12.0</td>\n",
       "      <td>2018-07-24 20:41:37</td>\n",
       "    </tr>\n",
       "    <tr>\n",
       "      <th>4</th>\n",
       "      <td>0004aac84e0df4da2b147fca70cf8255</td>\n",
       "      <td>288</td>\n",
       "      <td>1</td>\n",
       "      <td>196.89</td>\n",
       "      <td>180.00</td>\n",
       "      <td>180.00</td>\n",
       "      <td>180.00</td>\n",
       "      <td>1</td>\n",
       "      <td>1</td>\n",
       "      <td>5.0</td>\n",
       "      <td>5.0</td>\n",
       "      <td>5.0</td>\n",
       "      <td>credit_card</td>\n",
       "      <td>6.0</td>\n",
       "      <td>sorocaba</td>\n",
       "      <td>SP</td>\n",
       "      <td>13 days 03:23:14</td>\n",
       "      <td>1</td>\n",
       "      <td>11</td>\n",
       "      <td>19</td>\n",
       "      <td>Technologie, construction</td>\n",
       "      <td>8.0</td>\n",
       "      <td>2018-08-08 08:38:49</td>\n",
       "    </tr>\n",
       "  </tbody>\n",
       "</table>\n",
       "</div>"
      ],
      "text/plain": [
       "                 customer_unique_id  recency  frequency  monetary  \\\n",
       "0  0000366f3b9a7992bf8c76cfdf3221e2      112          1    141.90   \n",
       "1  0000b849f77a49e4a4ce2b2a4ca5be3f      115          1     27.19   \n",
       "2  0000f46a3911fa3c0805444483337064      537          1     86.22   \n",
       "3  0000f6ccb0745a6a4b88665a16c9f078      321          1     43.62   \n",
       "4  0004aac84e0df4da2b147fca70cf8255      288          1    196.89   \n",
       "\n",
       "   average_purchase  min_purchase  max_purchase  nb_item_per_customer  \\\n",
       "0            129.90        129.90        129.90                     1   \n",
       "1             18.90         18.90         18.90                     1   \n",
       "2             69.00         69.00         69.00                     1   \n",
       "3             25.99         25.99         25.99                     1   \n",
       "4            180.00        180.00        180.00                     1   \n",
       "\n",
       "   nb_cde_per_customer  average_review_score  min_review_score  \\\n",
       "0                    1                   5.0               5.0   \n",
       "1                    1                   4.0               4.0   \n",
       "2                    1                   3.0               3.0   \n",
       "3                    1                   4.0               4.0   \n",
       "4                    1                   5.0               5.0   \n",
       "\n",
       "   max_review_score payment_type  nb_payment customer_city customer_state  \\\n",
       "0               5.0  credit_card         8.0       cajamar             SP   \n",
       "1               4.0  credit_card         1.0        osasco             SP   \n",
       "2               3.0  credit_card         8.0      sao jose             SC   \n",
       "3               4.0  credit_card         4.0         belem             PA   \n",
       "4               5.0  credit_card         6.0      sorocaba             SP   \n",
       "\n",
       "     deadline_order  purchase_day  purchase_month  purchase_hour  \\\n",
       "0   6 days 09:52:10             3               5             10   \n",
       "1   3 days 06:51:15             0               5             11   \n",
       "2  25 days 17:33:44             4               3             21   \n",
       "3  20 days 00:53:24             3              10             20   \n",
       "4  13 days 03:23:14             1              11             19   \n",
       "\n",
       "         product_category_name  longeur_du_commentaire        last_purchase  \n",
       "0               Home,Furniture                   111.0  2017-10-02 10:56:33  \n",
       "1  Beauty,Health,Personal Care                     8.0  2017-10-02 10:56:33  \n",
       "2               Home,Furniture                     8.0  2017-10-02 10:56:33  \n",
       "3    Technologie, construction                    12.0  2018-07-24 20:41:37  \n",
       "4    Technologie, construction                     8.0  2018-08-08 08:38:49  "
      ]
     },
     "execution_count": 3,
     "metadata": {},
     "output_type": "execute_result"
    }
   ],
   "source": [
    "df_data = pd.read_csv(\"OLIST_data_exploratoire_bis.csv\")\n",
    "df_data.head()"
   ]
  },
  {
   "cell_type": "code",
   "execution_count": 4,
   "id": "e7d19116",
   "metadata": {},
   "outputs": [],
   "source": [
    "df_data = df_data.drop(['customer_unique_id','payment_type','customer_city','customer_state','deadline_order','product_category_name'], axis = 1)\n",
    "\n"
   ]
  },
  {
   "cell_type": "code",
   "execution_count": 5,
   "id": "4fd96e31",
   "metadata": {},
   "outputs": [],
   "source": [
    "df_data['last_purchase'] = df_data['last_purchase'].astype('datetime64[ns]')"
   ]
  },
  {
   "cell_type": "code",
   "execution_count": 6,
   "id": "ec2c9cea",
   "metadata": {},
   "outputs": [
    {
     "data": {
      "text/plain": [
       "20"
      ]
     },
     "execution_count": 6,
     "metadata": {},
     "output_type": "execute_result"
    }
   ],
   "source": [
    "total_months = round((df_data['last_purchase'].max() - df_data['last_purchase'].min())/ np.timedelta64(1,'M'))\n",
    "\n",
    "total_months"
   ]
  },
  {
   "cell_type": "code",
   "execution_count": 7,
   "id": "d37bd915",
   "metadata": {},
   "outputs": [
    {
     "data": {
      "text/plain": [
       "Timestamp('2017-01-05 13:43:17')"
      ]
     },
     "execution_count": 7,
     "metadata": {},
     "output_type": "execute_result"
    }
   ],
   "source": [
    "df_data['last_purchase'].min()"
   ]
  },
  {
   "cell_type": "code",
   "execution_count": 8,
   "id": "26db17d7",
   "metadata": {},
   "outputs": [
    {
     "data": {
      "text/plain": [
       "Timestamp('2018-08-28 21:56:12')"
      ]
     },
     "execution_count": 8,
     "metadata": {},
     "output_type": "execute_result"
    }
   ],
   "source": [
    "df_data['last_purchase'].max()"
   ]
  },
  {
   "cell_type": "code",
   "execution_count": 9,
   "id": "a0e03e1e",
   "metadata": {},
   "outputs": [],
   "source": [
    "#data_first_year = df_data[df_data['last_purchase'] < pd.to_datetime('2018-01-05')]\n",
    "data_first_year = df_data[df_data['last_purchase'] < pd.to_datetime('2017-07-05')]\n",
    "data_first_year = data_first_year.drop(['last_purchase'], axis=1)\n",
    "data_first_year_scaled = pd.DataFrame(preprocessing.StandardScaler().fit_transform(data_first_year), columns=data_first_year.columns, index=data_first_year.index)\n",
    "\n",
    "\n"
   ]
  },
  {
   "cell_type": "code",
   "execution_count": 10,
   "id": "a5e0724b",
   "metadata": {},
   "outputs": [
    {
     "name": "stdout",
     "output_type": "stream",
     "text": [
      "[1 1 1 ... 1 0 0]\n"
     ]
    }
   ],
   "source": [
    "kmeans_maintenance = KMeans(init='k-means++', n_clusters=3, n_init=10, random_state=42)\n",
    "kmeans_maintenance.fit(data_first_year_scaled)\n",
    "print(kmeans_maintenance.fit(data_first_year_scaled).labels_)"
   ]
  },
  {
   "cell_type": "code",
   "execution_count": 11,
   "id": "ae49ca8d",
   "metadata": {},
   "outputs": [],
   "source": [
    "periods = [\n",
    "    '2017-07-05',\n",
    "    '2017-08-05',\n",
    "    '2017-09-05',\n",
    "    '2017-10-05',\n",
    "    '2017-11-05',\n",
    "    '2018-12-05',\n",
    "  \n",
    "]"
   ]
  },
  {
   "cell_type": "code",
   "execution_count": 12,
   "id": "1658354a",
   "metadata": {},
   "outputs": [
    {
     "name": "stdout",
     "output_type": "stream",
     "text": [
      "1.0\n",
      "0.94\n",
      "0.94\n",
      "0.72\n",
      "0.7\n",
      "0.94\n"
     ]
    }
   ],
   "source": [
    "df_scores = []\n",
    "\n",
    "length = len(kmeans_maintenance.labels_)-1\n",
    "\n",
    "for i in range(len(periods)):\n",
    "    scores = {}\n",
    "    df = df_data[df_data['last_purchase'] < pd.to_datetime(periods[i])]\n",
    "    df = df.drop(['last_purchase'], axis=1)\n",
    "    #df_pourcentage = round((df.shape[0] / df_data.shape[0] * 100), 2)\n",
    "    df_scaled = pd.DataFrame(preprocessing.StandardScaler().fit_transform(df),\n",
    "                             columns=df.columns,\n",
    "                             index=df.index)\n",
    "    kmeans_model = KMeans(init='k-means++', n_clusters=3, n_init=10, random_state=42)\n",
    "    kmeans_model.fit(data_first_year_scaled)\n",
    "    clusters_before = kmeans_model.predict(df_scaled)\n",
    "    model_fit_df = kmeans_model.fit(df_scaled)\n",
    "    clusters_after = model_fit_df.predict(df_scaled)\n",
    "    ari_score = round(adjusted_rand_score(\n",
    "        clusters_before[0:length],\n",
    "        clusters_after[0:length]),2)\n",
    "    #scores['df_pourcentage'] = df_pourcentage\n",
    "    scores['period'] = 'après ' + str(i+1) + ' mois'\n",
    "    #scores['period'] = 'a partir ' + str(i+2) + ' mois'\n",
    "    scores['ari_score'] = ari_score\n",
    "    df_scores.append(scores)\n",
    "    print(ari_score)"
   ]
  },
  {
   "cell_type": "code",
   "execution_count": 13,
   "id": "b87c3fbe",
   "metadata": {},
   "outputs": [
    {
     "data": {
      "image/png": "[encoded data removed]",
      "text/plain": [
       "<Figure size 1152x432 with 1 Axes>"
      ]
     },
     "metadata": {
      "needs_background": "light"
     },
     "output_type": "display_data"
    }
   ],
   "source": [
    "import matplotlib.pyplot as plt\n",
    "import seaborn as sn\n",
    "fig = plt.figure(figsize=(16, 6))\n",
    "\n",
    "bp = sn.lineplot(\n",
    "    y='ari_score',\n",
    "    x='period',\n",
    "    data=pd.DataFrame(\n",
    "    df_scores,\n",
    "    columns=['period', 'ari_score'],\n",
    "),\n",
    "    #saturation=0.9,\n",
    "    # order=order,\n",
    "    # color='darkred',\n",
    "    ci=None)\n",
    "\n",
    "for p in bp.patches:\n",
    "    bp.annotate(format(p.get_height(), '.1f'),\n",
    "                (p.get_x() + p.get_width() / 2, p.get_height()),\n",
    "                ha='center',\n",
    "                va='center',\n",
    "                xytext=(0, 8),\n",
    "                textcoords='offset points')\n",
    "plt.show()"
   ]
  },
  {
   "cell_type": "code",
   "execution_count": null,
   "id": "0cc4e841",
   "metadata": {},
   "outputs": [],
   "source": []
  },
  {
   "cell_type": "code",
   "execution_count": null,
   "id": "5c934d08",
   "metadata": {},
   "outputs": [],
   "source": []
  }
 ],
 "metadata": {
  "kernelspec": {
   "display_name": "Python 3",
   "language": "python",
   "name": "python3"
  },
  "language_info": {
   "codemirror_mode": {
    "name": "ipython",
    "version": 3
   },
   "file_extension": ".py",
   "mimetype": "text/x-python",
   "name": "python",
   "nbconvert_exporter": "python",
   "pygments_lexer": "ipython3",
   "version": "3.8.8"
  }
 },
 "nbformat": 4,
 "nbformat_minor": 5
}
