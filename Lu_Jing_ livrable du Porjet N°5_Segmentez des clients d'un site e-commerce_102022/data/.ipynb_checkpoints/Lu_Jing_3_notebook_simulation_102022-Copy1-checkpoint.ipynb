{
 "cells": [
  {
   "cell_type": "code",
   "execution_count": 12,
   "id": "31d2fe29",
   "metadata": {},
   "outputs": [],
   "source": [
    "import pandas as pd\n",
    "import numpy as np\n",
    "import matplotlib.pyplot as plt\n",
    "from sklearn.cluster import KMeans\n",
    "from sklearn import cluster, metrics "
   ]
  },
  {
   "cell_type": "code",
   "execution_count": 2,
   "id": "3513ff60",
   "metadata": {},
   "outputs": [],
   "source": [
    "df_customer  = pd.read_csv('olist_customers_dataset.csv')\n",
    "df_geolocation = pd.read_csv('olist_geolocation_dataset.csv')\n",
    "df_order_item = pd.read_csv('olist_order_items_dataset.csv')\n",
    "df_order_payment = pd.read_csv('olist_order_payments_dataset.csv')\n",
    "df_order_review = pd.read_csv('olist_order_reviews_dataset.csv')\n",
    "df_order = pd.read_csv('olist_orders_dataset.csv')\n",
    "df_product = pd.read_csv('olist_products_dataset.csv')\n",
    "df_seller = pd.read_csv('olist_sellers_dataset.csv')\n",
    "df_product_category_translation = pd.read_csv('product_category_name_translation.csv')"
   ]
  },
  {
   "cell_type": "code",
   "execution_count": 3,
   "id": "c06f70ec",
   "metadata": {},
   "outputs": [],
   "source": [
    "order = pd.merge(pd.merge(pd.merge(df_order,df_order_item,on='order_id'),df_order_payment,on='order_id'),\n",
    "                     df_order_review,on='order_id')\n",
    "order = pd.merge(order,df_product,on='product_id')\n",
    "df = pd.merge(df_customer,order,on='customer_id')\n"
   ]
  },
  {
   "cell_type": "code",
   "execution_count": 4,
   "id": "2dabf215",
   "metadata": {},
   "outputs": [],
   "source": [
    "def devis_mainteance(df,time):\n",
    "      \n",
    "    ## nettoyage\n",
    "\n",
    "    \n",
    "    df['review_comment_message'].fillna(\"no comme\", inplace=True)\n",
    "    df =df.drop(['review_comment_title'],axis=1)\n",
    "    df = df.dropna()\n",
    "    #print(df.shape)\n",
    "    #print(\"le nombre de valeur identifiant unique : \", df['customer_unique_id'].nunique())\n",
    "    df['date'] = df['order_delivered_carrier_date']\n",
    "\n",
    "\n",
    "    \n",
    "    \n",
    "    #feature engineer\n",
    "    \n",
    "    # date \n",
    "    date = df[['customer_unique_id','date']]\n",
    "    \n",
    "    # achat moyen \n",
    "    \n",
    "    average_purchase = df[['customer_unique_id','price']].groupby(['customer_unique_id']).mean()\n",
    "    average_purchase = average_purchase.rename(columns = {'price': 'average_purchase'})\n",
    "    average_purchase = average_purchase.reset_index()\n",
    "    \n",
    "    \n",
    "    \n",
    "    # nombre d'achat\n",
    "    \n",
    "    nombre_achat_par_client = df[['customer_unique_id','product_id']].groupby(['customer_unique_id']).count()\n",
    "    nombre_achat_par_client = nombre_achat_par_client.rename(columns = {'product_id': 'nombre_achat_par_client'})\n",
    "    nombre_achat_par_client = nombre_achat_par_client.reset_index()\n",
    "    #print(\"le nombre de valeur identifiant unique : \",nombre_achat_par_client['customer_unique_id'].nunique())\n",
    "    #print(nombre_achat_par_client.shape)\n",
    "    \n",
    "    # note moyenne \n",
    "    \n",
    "    average_review_score = df[['customer_unique_id','review_score']].groupby(['customer_unique_id']).mean()\n",
    "    average_review_score = average_review_score.rename(columns = {'review_score': 'average_review_score'})\n",
    "    average_review_score = average_review_score.reset_index()\n",
    "    \n",
    "    \n",
    "    #type de paiment\n",
    "    \n",
    "    type_payment = df[['customer_unique_id','payment_type']].groupby([\n",
    "        'customer_unique_id'])['payment_type'].apply(lambda x: x.mode()[0])\n",
    "    type_payment = pd.DataFrame(type_payment)\n",
    "    type_payment = type_payment.reset_index()\n",
    "    \n",
    "    \n",
    "    \n",
    "    # le client paie en combien de fois \n",
    "    nb_payment = df[['customer_unique_id','payment_installments']].groupby(['customer_unique_id']).mean()\n",
    "    nb_payment = nb_payment.reset_index()\n",
    "    \n",
    "    \n",
    "    \n",
    "    # les villes où l'on achete \n",
    "    city_purchase = df[['customer_unique_id','customer_city']].groupby([\n",
    "        'customer_unique_id'])['customer_city'].apply(lambda x: x.mode()[0])\n",
    "    city_purchase = pd.DataFrame(city_purchase)\n",
    "    city_purchase = city_purchase.reset_index()\n",
    "    \n",
    "    \n",
    "    # les etat où l'on achette le plus \n",
    "    state_purchase = df[['customer_unique_id','customer_state']].groupby([\n",
    "        'customer_unique_id'])['customer_state'].apply(lambda x: x.mode()[0])\n",
    "    state_purchase = pd.DataFrame(state_purchase)    \n",
    "    state_purchase = state_purchase.reset_index()\n",
    "    \n",
    "    \n",
    "    # delais de la commande \n",
    "    deadline_order = df[['customer_unique_id','order_purchase_timestamp','order_delivered_customer_date']].groupby([\n",
    "        'customer_unique_id']).head(5)\n",
    "    deadline_order['order_purchase_timestamp'] = deadline_order['order_purchase_timestamp'].astype('datetime64')\n",
    "    deadline_order['order_delivered_customer_date'] = pd.to_datetime(deadline_order['order_delivered_customer_date'], \n",
    "                                                                     errors='coerce')\n",
    "    deadline_order['delai_commande'] = deadline_order['order_delivered_customer_date']- deadline_order[\n",
    "        'order_purchase_timestamp']\n",
    "    deadline_order = deadline_order.drop(['order_purchase_timestamp','order_delivered_customer_date'],axis=1)\n",
    "\n",
    "    \n",
    "    #le jour de la semaine\n",
    "    purchase_day = df[['customer_unique_id','order_purchase_timestamp','order_delivered_customer_date']].groupby([\n",
    "    'customer_unique_id']).head(5)\n",
    "    purchase_day['order_purchase_timestamp'] = purchase_day['order_purchase_timestamp'].astype('datetime64')\n",
    "    purchase_day['purchase_day'] = purchase_day['order_purchase_timestamp'].apply(lambda x: x.weekday())\n",
    "    purchase_day = purchase_day.drop(['order_purchase_timestamp','order_delivered_customer_date'],axis=1)\n",
    "    \n",
    "    \n",
    "    #heure achat\n",
    "    \n",
    "    purchase_hour = df[['customer_unique_id','order_purchase_timestamp','order_delivered_customer_date']].groupby([\n",
    "    'customer_unique_id']).head(5)\n",
    "    purchase_hour['order_purchase_timestamp'] = purchase_hour['order_purchase_timestamp'].astype('datetime64')\n",
    "    purchase_hour['purchase_hour'] = purchase_hour['order_purchase_timestamp'].apply(lambda x: x.hour)\n",
    "    purchase_hour = purchase_hour.drop(['order_purchase_timestamp','order_delivered_customer_date'],axis=1)\n",
    "    \n",
    "    \n",
    "    # taille du commentaire \n",
    "    \n",
    "    for label, row in df.iterrows():\n",
    "        df.loc[label, 'longeur_du_commentaire'] =len(row['review_comment_message'])\n",
    "    taille_commentaire = df[['customer_unique_id','longeur_du_commentaire']].groupby(['customer_unique_id']).mean()\n",
    "    taille_commentaire = taille_commentaire.reset_index()\n",
    "    #print(\"le nombre de valeur identifiant unique : \",taille_commentaire['customer_unique_id'].nunique())\n",
    "    \n",
    "    #produit le plus acheté \n",
    "    \n",
    "    most_purchased_product = df[['customer_unique_id','product_category_name']].groupby([\n",
    "        'customer_unique_id'])['product_category_name'].apply(lambda x: x.mode()[0])\n",
    "    most_purchased_product = pd.DataFrame(most_purchased_product)\n",
    "    most_purchased_product = most_purchased_product.reset_index()\n",
    "    \n",
    "    \n",
    "    ### Rassembler \n",
    "    \n",
    "    df_f = nombre_achat_par_client.merge(average_purchase)\n",
    "    #print(df_f['customer_unique_id'].nunique())\n",
    "    df_f = df_f.merge(average_review_score)\n",
    "    #print(df_f['customer_unique_id'].nunique())\n",
    "    df_f = df_f.merge(type_payment)\n",
    "    #print(df_f['customer_unique_id'].nunique())\n",
    "    df_f = df_f.merge(nb_payment)\n",
    "    #print(df_f['customer_unique_id'].nunique())\n",
    "    df_f = df_f.merge(city_purchase)\n",
    "    #print(df_f['customer_unique_id'].nunique())\n",
    "    df_f = df_f.merge(state_purchase)\n",
    "    #print(df_f['customer_unique_id'].nunique())\n",
    "    df_f = df_f.merge(deadline_order)\n",
    "    #print(df_f['customer_unique_id'].nunique())\n",
    "    df_f = df_f.merge(purchase_day)\n",
    "    #print(df_f['customer_unique_id'].nunique())\n",
    "    df_f = df_f.merge(purchase_hour)\n",
    "    #print(df_f['customer_unique_id'].nunique())\n",
    "    df_f = df_f.merge(taille_commentaire)\n",
    "    #print(df_f['customer_unique_id'].nunique())\n",
    "    df_f = df_f.merge(most_purchased_product)\n",
    "    #print(df_f['customer_unique_id'].nunique())\n",
    "    df_f = df_f.merge(date)\n",
    "    \n",
    "    # un client par ligne\n",
    "  \n",
    "    df_f = df_f.drop_duplicates(['customer_unique_id'])\n",
    "    \n",
    "    # Garder seulement les variables quantitative pour KMeans\n",
    "\n",
    "    df_f = df_f.drop(['customer_state','customer_city',\n",
    "            'customer_unique_id','delai_commande','payment_type',\n",
    "                     'product_category_name'],axis=1) \n",
    "    \n",
    "    df_f = df_f.set_index(pd.DatetimeIndex(df_f['date']))\n",
    "    #df_f = df_f.loc['2016-10' : time]\n",
    "    df_f = df_f.loc['2017-01' : time]\n",
    "    # Passer au log \n",
    "    df_f['average_purchase'] = np.log2(1+df_f['average_purchase'])\n",
    "    df_f['average_review_score'] = np.log2(1+df_f['average_review_score'])\n",
    "    df_f['purchase_day'] = np.log2(1+df_f['purchase_day'])\n",
    "    df_f['purchase_hour'] = np.log2(1+df_f['purchase_hour'])\n",
    "    df_f['payment_installments'] = np.log2(1+df_f['payment_installments'])\n",
    "    df_f['nombre_achat_par_client'] = np.log2(1+df_f['nombre_achat_par_client'])\n",
    "    df_f['longeur_du_commentaire'] = np.log2(1+df_f['longeur_du_commentaire'])\n",
    "    \n",
    "    \n",
    "    return df_f"
   ]
  },
  {
   "cell_type": "code",
   "execution_count": 5,
   "id": "2f58f625",
   "metadata": {},
   "outputs": [
    {
     "name": "stderr",
     "output_type": "stream",
     "text": [
      "<ipython-input-4-7637bd254a79>:155: FutureWarning: Value based partial slicing on non-monotonic DatetimeIndexes with non-existing keys is deprecated and will raise a KeyError in a future Version.\n",
      "  df_f = df_f.loc['2017-01' : time]\n",
      "<ipython-input-4-7637bd254a79>:155: FutureWarning: Value based partial slicing on non-monotonic DatetimeIndexes with non-existing keys is deprecated and will raise a KeyError in a future Version.\n",
      "  df_f = df_f.loc['2017-01' : time]\n",
      "<ipython-input-4-7637bd254a79>:155: FutureWarning: Value based partial slicing on non-monotonic DatetimeIndexes with non-existing keys is deprecated and will raise a KeyError in a future Version.\n",
      "  df_f = df_f.loc['2017-01' : time]\n",
      "<ipython-input-4-7637bd254a79>:155: FutureWarning: Value based partial slicing on non-monotonic DatetimeIndexes with non-existing keys is deprecated and will raise a KeyError in a future Version.\n",
      "  df_f = df_f.loc['2017-01' : time]\n",
      "<ipython-input-4-7637bd254a79>:155: FutureWarning: Value based partial slicing on non-monotonic DatetimeIndexes with non-existing keys is deprecated and will raise a KeyError in a future Version.\n",
      "  df_f = df_f.loc['2017-01' : time]\n",
      "<ipython-input-4-7637bd254a79>:155: FutureWarning: Value based partial slicing on non-monotonic DatetimeIndexes with non-existing keys is deprecated and will raise a KeyError in a future Version.\n",
      "  df_f = df_f.loc['2017-01' : time]\n",
      "<ipython-input-4-7637bd254a79>:155: FutureWarning: Value based partial slicing on non-monotonic DatetimeIndexes with non-existing keys is deprecated and will raise a KeyError in a future Version.\n",
      "  df_f = df_f.loc['2017-01' : time]\n",
      "<ipython-input-4-7637bd254a79>:155: FutureWarning: Value based partial slicing on non-monotonic DatetimeIndexes with non-existing keys is deprecated and will raise a KeyError in a future Version.\n",
      "  df_f = df_f.loc['2017-01' : time]\n",
      "<ipython-input-4-7637bd254a79>:155: FutureWarning: Value based partial slicing on non-monotonic DatetimeIndexes with non-existing keys is deprecated and will raise a KeyError in a future Version.\n",
      "  df_f = df_f.loc['2017-01' : time]\n"
     ]
    }
   ],
   "source": [
    "#liste = '2017-10','2017-11','2017-12','2018-01','2018-02','2018-03','2018-04','2018-05','2018-06','2018-07','2018-08','2018-09'\n",
    "liste = '2018-01','2018-02','2018-03','2018-04','2018-05','2018-06','2018-07','2018-08','2018-09'\n",
    "data = {}\n",
    "for time in liste: \n",
    "    data[f\"dat{time}\"] = devis_mainteance(df,time)"
   ]
  },
  {
   "cell_type": "code",
   "execution_count": 6,
   "id": "4e613b8e",
   "metadata": {},
   "outputs": [],
   "source": [
    "#liste = 'dat2017-10','dat2017-11','dat2017-12','dat2018-01','dat2018-02','dat2018-03','dat2018-04','dat2018-05','dat2018-06','dat2018-07','dat2018-08','dat2018-09'\n",
    "liste = 'dat2018-01','dat2018-02','dat2018-03','dat2018-04','dat2018-05','dat2018-06','dat2018-07','dat2018-08','dat2018-09'\n",
    "date = {}\n",
    "for elt in liste:\n",
    "    date[f\"{elt}\"] = pd.DataFrame(data[elt]['date'])"
   ]
  },
  {
   "cell_type": "code",
   "execution_count": 7,
   "id": "8559e350",
   "metadata": {},
   "outputs": [],
   "source": [
    "données = {}\n",
    "for elt in liste:\n",
    "    données[f\"{elt}\"] = data[elt].drop(['date'],axis=1)"
   ]
  },
  {
   "cell_type": "code",
   "execution_count": 8,
   "id": "4d4a6515",
   "metadata": {},
   "outputs": [],
   "source": [
    "pred = {}\n",
    "for elt in liste:\n",
    "    #kmeans\n",
    "    pred[f\"{elt}\"] = pd.DataFrame(KMeans(n_clusters = 3,random_state=0).fit(données[elt]).predict(données[elt]))\n",
    "    "
   ]
  },
  {
   "cell_type": "code",
   "execution_count": 9,
   "id": "97d68b11",
   "metadata": {},
   "outputs": [
    {
     "name": "stderr",
     "output_type": "stream",
     "text": [
      "<ipython-input-9-0d35507c5ce7>:9: FutureWarning: Value based partial slicing on non-monotonic DatetimeIndexes with non-existing keys is deprecated and will raise a KeyError in a future Version.\n",
      "  finale[f\"{elt}\"] = finale[elt].loc['2017-01' : '2017-12' ]\n",
      "<ipython-input-9-0d35507c5ce7>:9: FutureWarning: Value based partial slicing on non-monotonic DatetimeIndexes with non-existing keys is deprecated and will raise a KeyError in a future Version.\n",
      "  finale[f\"{elt}\"] = finale[elt].loc['2017-01' : '2017-12' ]\n",
      "<ipython-input-9-0d35507c5ce7>:9: FutureWarning: Value based partial slicing on non-monotonic DatetimeIndexes with non-existing keys is deprecated and will raise a KeyError in a future Version.\n",
      "  finale[f\"{elt}\"] = finale[elt].loc['2017-01' : '2017-12' ]\n",
      "<ipython-input-9-0d35507c5ce7>:9: FutureWarning: Value based partial slicing on non-monotonic DatetimeIndexes with non-existing keys is deprecated and will raise a KeyError in a future Version.\n",
      "  finale[f\"{elt}\"] = finale[elt].loc['2017-01' : '2017-12' ]\n",
      "<ipython-input-9-0d35507c5ce7>:9: FutureWarning: Value based partial slicing on non-monotonic DatetimeIndexes with non-existing keys is deprecated and will raise a KeyError in a future Version.\n",
      "  finale[f\"{elt}\"] = finale[elt].loc['2017-01' : '2017-12' ]\n",
      "<ipython-input-9-0d35507c5ce7>:9: FutureWarning: Value based partial slicing on non-monotonic DatetimeIndexes with non-existing keys is deprecated and will raise a KeyError in a future Version.\n",
      "  finale[f\"{elt}\"] = finale[elt].loc['2017-01' : '2017-12' ]\n",
      "<ipython-input-9-0d35507c5ce7>:9: FutureWarning: Value based partial slicing on non-monotonic DatetimeIndexes with non-existing keys is deprecated and will raise a KeyError in a future Version.\n",
      "  finale[f\"{elt}\"] = finale[elt].loc['2017-01' : '2017-12' ]\n",
      "<ipython-input-9-0d35507c5ce7>:9: FutureWarning: Value based partial slicing on non-monotonic DatetimeIndexes with non-existing keys is deprecated and will raise a KeyError in a future Version.\n",
      "  finale[f\"{elt}\"] = finale[elt].loc['2017-01' : '2017-12' ]\n",
      "<ipython-input-9-0d35507c5ce7>:9: FutureWarning: Value based partial slicing on non-monotonic DatetimeIndexes with non-existing keys is deprecated and will raise a KeyError in a future Version.\n",
      "  finale[f\"{elt}\"] = finale[elt].loc['2017-01' : '2017-12' ]\n"
     ]
    }
   ],
   "source": [
    "final = {}\n",
    "finale = {}\n",
    "for elt in liste:\n",
    "    final[f\"{elt}\"] = pd.DataFrame(np.concatenate([date[elt],données[elt]],axis=1))\n",
    "    finale[f\"{elt}\"] = pd.DataFrame(np.concatenate([final[elt],pred[elt]],axis=1))\n",
    "    finale[f\"{elt}\"] = finale[elt].set_index(pd.DatetimeIndex(finale[elt][0]))\n",
    "    finale[f\"{elt}\"] = finale[elt].drop([0],axis=1)\n",
    "    #finale[f\"{elt}\"] = finale[elt].loc['2016-10' : '2017-10' ]\n",
    "    finale[f\"{elt}\"] = finale[elt].loc['2017-01' : '2017-12' ]\n",
    "    finale[f\"{elt}\"] = finale[elt][8].to_numpy()\n",
    "    #print(finale[elt].shape)"
   ]
  },
  {
   "cell_type": "code",
   "execution_count": 10,
   "id": "a4118b3a",
   "metadata": {},
   "outputs": [],
   "source": [
    "resultats = []\n",
    "#liste = 'dat2017-11','dat2017-12','dat2018-01','dat2018-02','dat2018-03','dat2018-04','dat2018-05','dat2018-06','dat2018-07','dat2018-08','dat2018-09'\n",
    "liste = 'dat2018-01','dat2018-02','dat2018-03','dat2018-04','dat2018-05','dat2018-06','dat2018-07','dat2018-08','dat2018-09'\n",
    "for elt in liste :\n",
    "    score  = metrics.adjusted_rand_score(finale['dat2018-01'],finale[elt])\n",
    "    resultats.append(score)"
   ]
  },
  {
   "cell_type": "code",
   "execution_count": 16,
   "id": "7f1c6eb3",
   "metadata": {},
   "outputs": [
    {
     "data": {
      "text/plain": [
       "Text(0, 0.5, 'Score ARI')"
      ]
     },
     "execution_count": 16,
     "metadata": {},
     "output_type": "execute_result"
    },
    {
     "data": {
      "image/png": "[encoded data removed]",
      "text/plain": [
       "<Figure size 432x288 with 1 Axes>"
      ]
     },
     "metadata": {
      "needs_background": "light"
     },
     "output_type": "display_data"
    }
   ],
   "source": [
    "#t = np.arange(0,9)\n",
    "t = np.arange(0,5)\n",
    "plt.plot(resultats)\n",
    "#plt.xticks(range(9), ['+1', '+2', '+3', '+4', '+5','+6', '+7',\n",
    "                      # '+8', '+9'])\n",
    "\n",
    "plt.xticks(range(5), ['+2', '+4', '+6', '+8','+10'])\n",
    "\n",
    "plt.title(\"Comparaison de ARI avec l'année 2017\")\n",
    "plt.xlabel('Mois rajouté après année 2017')\n",
    "plt.ylabel('Score ARI')"
   ]
  },
  {
   "cell_type": "code",
   "execution_count": null,
   "id": "ba4816a0",
   "metadata": {},
   "outputs": [],
   "source": []
  },
  {
   "cell_type": "code",
   "execution_count": null,
   "id": "d4791a7d",
   "metadata": {},
   "outputs": [],
   "source": []
  }
 ],
 "metadata": {
  "kernelspec": {
   "display_name": "Python 3",
   "language": "python",
   "name": "python3"
  },
  "language_info": {
   "codemirror_mode": {
    "name": "ipython",
    "version": 3
   },
   "file_extension": ".py",
   "mimetype": "text/x-python",
   "name": "python",
   "nbconvert_exporter": "python",
   "pygments_lexer": "ipython3",
   "version": "3.8.8"
  }
 },
 "nbformat": 4,
 "nbformat_minor": 5
}
